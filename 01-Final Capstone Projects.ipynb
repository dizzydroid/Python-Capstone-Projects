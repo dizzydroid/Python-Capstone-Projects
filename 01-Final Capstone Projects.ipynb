{
 "cells": [
  {
   "cell_type": "markdown",
   "metadata": {
    "collapsed": true
   },
   "source": [
    "# Final Capstone Projects\n"
   ]
  },
  {
   "cell_type": "markdown",
   "metadata": {},
   "source": [
    "**Fibonacci Sequence** - Enter a number and have the program generate the Fibonacci sequence to that number or to the Nth number.\n",
    "The Fibonacci sequence is a series of numbers where a number is the addition of the last two numbers, starting with 0, and 1."
   ]
  },
  {
   "cell_type": "code",
   "execution_count": null,
   "metadata": {},
   "outputs": [],
   "source": [
    "num = int(input(\"Enter a number: \"))\n",
    "def fibonacci(num):\n",
    "    if num <= 1:\n",
    "        return num\n",
    "    else:\n",
    "        return(fibonacci(num-1) + fibonacci(num-2))\n",
    "print(\"Fibonacci sequence:\")\n",
    "for i in range(num):\n",
    "    print(fibonacci(i))"
   ]
  },
  {
   "cell_type": "markdown",
   "metadata": {},
   "source": [
    "**Find PI to the Nth Digit** - Enter a number and have the program generate &pi; (pi) up to that many decimal places. \n",
    " Keep a limit to how far the program will go."
   ]
  },
  {
   "cell_type": "code",
   "execution_count": null,
   "metadata": {},
   "outputs": [],
   "source": [
    "from math import pi\n",
    "num = int(input(\"How big do you want your pi?\"))\n",
    "if num > 15:\n",
    "    print(\"Sorry, that's too big!\")\n",
    "else:\n",
    "    print(round(pi, num))"
   ]
  },
  {
   "cell_type": "markdown",
   "metadata": {},
   "source": [
    "**Find e to the Nth Digit** - Just like the previous problem, but with e instead of &pi; (pi). \n",
    "Enter a number and have the program generate e up to that many decimal places. Keep a limit to how far the program will go."
   ]
  },
  {
   "cell_type": "code",
   "execution_count": null,
   "metadata": {},
   "outputs": [],
   "source": [
    "from math import e\n",
    "num = int(input(\"How big would you like the d? I mean, the e.\"))\n",
    "if num > 15:\n",
    "    print(\"Sorry, we don't have that size\")\n",
    "else:\n",
    "    print(round(e,num))"
   ]
  },
  {
   "cell_type": "markdown",
   "metadata": {},
   "source": [
    "**Prime Factorization** - Have the user enter a number and find all Prime Factors (if there are any) and display them.\n"
   ]
  },
  {
   "cell_type": "code",
   "execution_count": null,
   "metadata": {},
   "outputs": [],
   "source": [
    "import math\n",
    "num = int(input(\"Enter a number to find the primes included!\"))\n",
    "def is_prime(num):\n",
    "    if num < 2:\n",
    "        return False\n",
    "    for i in range(2, int(math.sqrt(num))+1):\n",
    "        if num % i == 0:\n",
    "            return False\n",
    "    return True\n",
    "for i in range(num):\n",
    "    if is_prime(i):\n",
    "        print(i)"
   ]
  },
  {
   "cell_type": "code",
   "execution_count": null,
   "metadata": {},
   "outputs": [],
   "source": []
  }
 ],
 "metadata": {
  "kernelspec": {
   "display_name": "Python 3",
   "language": "python",
   "name": "python3"
  },
  "language_info": {
   "codemirror_mode": {
    "name": "ipython",
    "version": 3
   },
   "file_extension": ".py",
   "mimetype": "text/x-python",
   "name": "python",
   "nbconvert_exporter": "python",
   "pygments_lexer": "ipython3",
   "version": "3.10.12"
  }
 },
 "nbformat": 4,
 "nbformat_minor": 1
}
