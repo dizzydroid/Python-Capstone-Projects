{
 "cells": [
  {
   "cell_type": "markdown",
   "metadata": {},
   "source": [
    "# Final Capstone Projects\n",
    "*A collection of <b>Python</b> Exercises, feel free to test your skills and contribute with your own solutions!* <br>\n",
    "<b>You can find the solutions at: [Python Capstone Projects (SOLVED)](https://github.com/dizzydroid/Python-Capstone-Projects/blob/main/Python%20Capstone%20Projects%20(SOLVED).ipynb)</b>"
   ]
  },
  {
   "cell_type": "markdown",
   "metadata": {},
   "source": [
    "**Fibonacci Sequence** - Enter a number and have the program generate the Fibonacci sequence to that number or to the Nth number.\n",
    "The Fibonacci sequence is a series of numbers where a number is the addition of the last two numbers, starting with 0, and 1."
   ]
  },
  {
   "cell_type": "markdown",
   "metadata": {},
   "source": [
    "**Find PI to the Nth Digit** - Enter a number and have the program generate &pi; (pi) up to that many decimal places. \n",
    " Keep a limit to how far the program will go."
   ]
  },
  {
   "cell_type": "markdown",
   "metadata": {},
   "source": [
    "**Find e to the Nth Digit** - Just like the previous problem, but with e instead of &pi; (pi). \n",
    "Enter a number and have the program generate e up to that many decimal places. Keep a limit to how far the program will go."
   ]
  },
  {
   "cell_type": "markdown",
   "metadata": {},
   "source": [
    "**Prime Factorization** - Have the user enter a number and find all Prime Factors (if there are any) and display them.\n"
   ]
  },
  {
   "cell_type": "markdown",
   "metadata": {},
   "source": [
    "**Find Cost of Tile to Cover W x H Floor** - Calculate the total cost of tile it would take to cover a floor plan of width and height, using a cost entered by the user."
   ]
  },
  {
   "cell_type": "markdown",
   "metadata": {},
   "source": [
    "**Binary to Decimal and Back Converter** - Develop a converter to convert a decimal number to binary or a binary number to its decimal equivalent."
   ]
  },
  {
   "cell_type": "markdown",
   "metadata": {},
   "source": [
    "**Calculator** - A simple calculator to do basic operators. Make it a scientific calculator for added complexity."
   ]
  }
 ],
 "metadata": {
  "language_info": {
   "name": "python"
  },
  "orig_nbformat": 4
 },
 "nbformat": 4,
 "nbformat_minor": 2
}
