{
 "cells": [
  {
   "cell_type": "markdown",
   "metadata": {
    "collapsed": true
   },
   "source": [
    "# Final Capstone Projects\n",
    "*A collection of solved <b>Python</b> Exercises, feel free to test your skills and contribute with your own solutions!*"
   ]
  },
  {
   "cell_type": "markdown",
   "metadata": {},
   "source": [
    "**Fibonacci Sequence** - Enter a number and have the program generate the Fibonacci sequence to that number or to the Nth number.\n",
    "The Fibonacci sequence is a series of numbers where a number is the addition of the last two numbers, starting with 0, and 1."
   ]
  },
  {
   "cell_type": "code",
   "execution_count": null,
   "metadata": {},
   "outputs": [],
   "source": [
    "num = int(input(\"Enter a number: \"))\n",
    "def fibonacci(num):\n",
    "    if num <= 1:\n",
    "        return num\n",
    "    else:\n",
    "        return(fibonacci(num-1) + fibonacci(num-2))\n",
    "print(\"Fibonacci sequence:\")\n",
    "for i in range(num):\n",
    "    print(fibonacci(i))"
   ]
  },
  {
   "cell_type": "markdown",
   "metadata": {},
   "source": [
    "**Find PI to the Nth Digit** - Enter a number and have the program generate &pi; (pi) up to that many decimal places. \n",
    " Keep a limit to how far the program will go."
   ]
  },
  {
   "cell_type": "code",
   "execution_count": null,
   "metadata": {},
   "outputs": [],
   "source": [
    "from math import pi\n",
    "num = int(input(\"How big do you want your pi?\"))\n",
    "if num > 15:\n",
    "    print(\"Sorry, that's too big!\")\n",
    "else:\n",
    "    print(round(pi, num))"
   ]
  },
  {
   "cell_type": "markdown",
   "metadata": {},
   "source": [
    "**Find e to the Nth Digit** - Just like the previous problem, but with e instead of &pi; (pi). \n",
    "Enter a number and have the program generate e up to that many decimal places. Keep a limit to how far the program will go."
   ]
  },
  {
   "cell_type": "code",
   "execution_count": null,
   "metadata": {},
   "outputs": [],
   "source": [
    "from math import e\n",
    "num = int(input(\"How big would you like the d? I mean, the e.\"))\n",
    "if num > 15:\n",
    "    print(\"Sorry, we don't have that size\")\n",
    "else:\n",
    "    print(round(e,num))"
   ]
  },
  {
   "cell_type": "markdown",
   "metadata": {},
   "source": [
    "**Prime Factorization** - Have the user enter a number and find all Prime Factors (if there are any) and display them.\n"
   ]
  },
  {
   "cell_type": "code",
   "execution_count": null,
   "metadata": {},
   "outputs": [],
   "source": [
    "import math\n",
    "num = int(input(\"Enter a number to find the primes included!\"))\n",
    "def is_prime(num):\n",
    "    if num < 2:\n",
    "        return False\n",
    "    for i in range(2, int(math.sqrt(num))+1):\n",
    "        if num % i == 0:\n",
    "            return False\n",
    "    return True\n",
    "for i in range(num):\n",
    "    if is_prime(i):\n",
    "        print(i)"
   ]
  },
  {
   "cell_type": "markdown",
   "metadata": {},
   "source": [
    "**Find Cost of Tile to Cover W x H Floor** - Calculate the total cost of tile it would take to cover a floor plan of width and height, using a cost entered by the user."
   ]
  },
  {
   "cell_type": "code",
   "execution_count": null,
   "metadata": {},
   "outputs": [],
   "source": [
    "width = int(input(\"Enter width of floor: \"))\n",
    "height = int(input(\"Enter height of floor: \"))\n",
    "cost = float(input(\"Enter cost of a single tile: \"))\n",
    "totalcost = width * height * cost\n",
    "print(f\"The total cost to cover this floor is: ${totalcost:.2f}\")"
   ]
  },
  {
   "cell_type": "markdown",
   "metadata": {},
   "source": [
    "**Binary to Decimal and Back Converter** - Develop a converter to convert a decimal number to binary or a binary number to its decimal equivalent."
   ]
  },
  {
   "cell_type": "code",
   "execution_count": null,
   "metadata": {},
   "outputs": [],
   "source": [
    "def binToDec(binNum):\n",
    "    decimal = 0\n",
    "    binNum = str(binNum)\n",
    "    binNum = binNum[::-1]\n",
    "    for index, digit in enumerate(binNum):\n",
    "        if digit == '1':\n",
    "            decimal += 2*index\n",
    "    return decimal\n",
    "\n",
    "def decToBin(decNum):\n",
    "    binary = bin(decNum)[2::]\n",
    "    return binary\n",
    "\n",
    "choice = input('Type \"1\" to convert Decimal into Binary or \"2\" to convert Binary into Decimal: ')\n",
    "if choice == \"1\":\n",
    "    num_dec = int(input(\"Enter the Decimal number you wish to convert: \"))\n",
    "    num_bin = decToBin(num_dec)\n",
    "    print(f\"The Binary equivalent to {num_dec} is {num_bin}\")\n",
    "elif choice == \"2\":\n",
    "    num_bin = int(input(\"Enter the Binary number you wish to convert: \"))\n",
    "    num_dec = binToDec(num_bin)\n",
    "    print(f\"The Decimal equivalent to {num_bin} is {num_dec}\")"
   ]
  },
  {
   "cell_type": "markdown",
   "metadata": {},
   "source": [
    "**Calculator** - A simple calculator to do basic operators. Make it a scientific calculator for added complexity."
   ]
  },
  {
   "cell_type": "code",
   "execution_count": null,
   "metadata": {},
   "outputs": [],
   "source": [
    "import math\n",
    "def add(x,y):\n",
    "    return x + y\n",
    "def subt(x,y):\n",
    "    return x - y\n",
    "def multip(x,y):\n",
    "    return x * y\n",
    "def divide(x,y):\n",
    "    if y == 0:\n",
    "        return \"Undefined (division by zero)\"\n",
    "    return x / y\n",
    "def power(x,y):\n",
    "    return x ** y\n",
    "def square_root(x):\n",
    "    return math.sqrt(x)\n",
    "def log_base10(x):\n",
    "    return math.log10(x)\n",
    "def ln(x):\n",
    "    return math.log(x)\n",
    "def sin(x):\n",
    "    return math.sin(x)\n",
    "def cos(x):\n",
    "    return math.cos(x)\n",
    "def tan(x):\n",
    "    return math.tan(x)\n",
    "\n",
    "def main():\n",
    "    while True:\n",
    "        print(\"\\nOptions:\")\n",
    "        print(\"\"\"\n",
    "Enter \"add\" or \"+\" for addition\n",
    "Enter \"sub\" or \"-\" for subtraction\n",
    "Enter \"multiply\" or \"x\" for multiplication\n",
    "Enter \"division\" or \"/\" for division\n",
    "Enter \"pow\" for raising to a power\n",
    "Enter \"sqrt\" for square root\n",
    "Enter \"log\" for log of base 10\n",
    "Enter \"ln\" for natural log\n",
    "Enter \"sin\", \"cos\" or \"tan\" for trig. operations\n",
    "Enter \"quit\" to end the program\"\"\")\n",
    "        user_input = input(\": \")\n",
    "        \n",
    "        if user_input == \"quit\":\n",
    "            break\n",
    "        elif (user_input in (\"sin\",\"cos\",\"tan\",\"sqrt\",\"log\",\"ln\")):\n",
    "            x = float(input(\"Enter a number: \"))\n",
    "        elif (user_input in (\"add\",\"+\",\"sub\",\"-\",\"multiply\",\"x\",\"division\",\"/\",\"pow\")):\n",
    "            x = float(input(\"Enter the first number: \"))\n",
    "            y = float(input(\"Enter the second number: \"))\n",
    "        else:\n",
    "            continue\n",
    "\n",
    "        if user_input == \"add\" or user_input == \"+\":\n",
    "            print(add(x,y))\n",
    "        elif user_input == \"sub\" or user_input == \"-\":\n",
    "            print(subt(x,y))\n",
    "        elif user_input == \"multiply\" or user_input == \"x\":\n",
    "            print(multip(x,y))\n",
    "        elif user_input == \"division\" or user_input == \"/\":\n",
    "            print(divide(x,y))\n",
    "        elif user_input == \"pow\":\n",
    "            print(power(x,y))\n",
    "        elif user_input == \"sqrt\":\n",
    "            print(square_root(x))\n",
    "        elif user_input == \"log\":\n",
    "            if x <= 0:\n",
    "                print(\"x should be greater than 0 for log operations.\")\n",
    "                continue\n",
    "            print(log_base10(x))\n",
    "        elif user_input == \"ln\":\n",
    "            if x <= 0:\n",
    "                print(\"x should be greater than 0 for ln operations.\")\n",
    "                continue\n",
    "            print(ln(x))\n",
    "        elif user_input == \"sin\":\n",
    "            print(sin(x))\n",
    "        elif user_input == \"cos\":\n",
    "            print(cos(x))\n",
    "        elif user_input == \"tan\":\n",
    "            print(tan(x))\n",
    "        \n",
    "if __name__ == \"__main__\":\n",
    "    main()"
   ]
  }
 ],
 "metadata": {
  "kernelspec": {
   "display_name": "Python 3",
   "language": "python",
   "name": "python3"
  },
  "language_info": {
   "codemirror_mode": {
    "name": "ipython",
    "version": 3
   },
   "file_extension": ".py",
   "mimetype": "text/x-python",
   "name": "python",
   "nbconvert_exporter": "python",
   "pygments_lexer": "ipython3",
   "version": "3.10.12"
  }
 },
 "nbformat": 4,
 "nbformat_minor": 1
}
